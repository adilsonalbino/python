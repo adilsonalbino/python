{
  "nbformat": 4,
  "nbformat_minor": 0,
  "metadata": {
    "colab": {
      "provenance": [],
      "toc_visible": true,
      "authorship_tag": "ABX9TyPly7OJVVj0VRqmZtMRcGzk",
      "include_colab_link": true
    },
    "kernelspec": {
      "name": "python3",
      "display_name": "Python 3"
    },
    "language_info": {
      "name": "python"
    }
  },
  "cells": [
    {
      "cell_type": "markdown",
      "metadata": {
        "id": "view-in-github",
        "colab_type": "text"
      },
      "source": [
        "<a href=\"https://colab.research.google.com/github/adilsonalbino/python/blob/master/App_Removedor_Caracter.ipynb\" target=\"_parent\"><img src=\"https://colab.research.google.com/assets/colab-badge.svg\" alt=\"Open In Colab\"/></a>"
      ]
    },
    {
      "cell_type": "markdown",
      "source": [
        "#Adilson Pereira\n",
        "\n",
        "Esse projeto foi desenvolvido por mim para resolver uma tarefa do dia a dia na empresa Hospital Adventista de São Paulo.\n",
        "\n",
        "##Problema:\n",
        "O hospital possui várias planilhas de dados com caracteres especiais como (Ç, Ã, Ó etc...) Os mesmos devem ser substituídos ou removidos. Também é necessários remover linhas com erros, preencher espaços vazios com informações informadas pelo setor.\n",
        "\n",
        "##Solução:\n",
        "Criação de script em python, utilizando bibliotecas do pandas e google para permitir que o usuário carregue a planilha o scripts executa todas as funções e gera uma nova planilha limpa e criar uma coluna nova que informa a quantidade de linhas duplicas e ou removidas.\n",
        "\n",
        "##OBS:\n",
        "Por questões relacionadas a LGPD, não fui possível deixar um exemplo de uma planilha com os dados."
      ],
      "metadata": {
        "id": "9Zzql2juK0yC"
      }
    },
    {
      "cell_type": "code",
      "source": [
        "#Importando bibliotecas\n",
        "import pandas as pd\n",
        "from google.colab import files\n",
        "import os\n",
        "\n",
        "\n",
        "# Carregar a planilha original\n",
        "# Faça o upload do arquivo para o Google Colab\n",
        "uploaded = files.upload()\n",
        "\n",
        "# Escolha o arquivo a ser carregado\n",
        "planilha_uploaded = list(uploaded.keys())[0]\n",
        "\n",
        "# Carregue o arquivo com o Pandas e mantenha o índice original\n",
        "planilha_original = pd.read_excel(planilha_uploaded, index_col=None)\n",
        "\n",
        "#Exluir linhas do dataframe que não tiver preenchido o nome do paciente\n",
        "planilha_original = planilha_original.dropna(subset=['Nome do Paciente'])\n",
        "\n",
        "# Substituir valores nulos por 1 na coluna 'Quantidade'\n",
        "planilha_original['Quantidade'].fillna(1, inplace=True)\n",
        "\n",
        "#Converter coluna quantidade para int, pois as vezes carrega como float\n",
        "planilha_original['Quantidade'] = planilha_original['Quantidade'].astype(int)\n"
      ],
      "metadata": {
        "id": "tjPejoZ4W1gK"
      },
      "execution_count": null,
      "outputs": []
    },
    {
      "cell_type": "code",
      "source": [
        "planilha_original"
      ],
      "metadata": {
        "id": "zXQApveJ38Wq"
      },
      "execution_count": null,
      "outputs": []
    },
    {
      "cell_type": "code",
      "source": [
        "planilha_original = planilha_original.astype(str)\n",
        "\n",
        "# Substituir strings 'nan' por strings vazias\n",
        "planilha_original.replace('nan', '', inplace=True)\n",
        "\n",
        "# Definir a função para preencher 'GRATUITO' se a coluna estiver zerada\n",
        "def preencher_gratuito(valor):\n",
        "    if pd.isnull(valor) or valor == 0:\n",
        "        return 'GRATUITO'\n",
        "    else:\n",
        "        return 'GRATUITO'\n",
        "\n",
        "# Definir a função para preencher '3550308' se a coluna estiver zerada\n",
        "def preencher_ibge(valor):\n",
        "    if pd.isnull(valor) or valor == 0:\n",
        "        return '3550308'\n",
        "    else:\n",
        "        return '3550308'\n",
        "\n",
        "        # Definir a função para preencher 'Z000' se a coluna estiver zerada\n",
        "def preencher_cid(valor):\n",
        "    if pd.isnull(valor) or valor == 0:\n",
        "        return 'Z000'\n",
        "    else:\n",
        "        return 'Z000'\n",
        "\n",
        "# Aplicar a função à coluna 'Fonte Remuneradora'\n",
        "planilha_original['Fonte Remuneradora'] = planilha_original['Fonte Remuneradora'].apply(lambda x: preencher_gratuito(x))\n",
        "\n",
        "# Aplicar a função à coluna 'IBGE'\n",
        "planilha_original['IBGE'] = planilha_original['IBGE'].apply(lambda x: preencher_ibge(x))\n",
        "\n",
        "# Aplicar a função à coluna 'CID'\n",
        "planilha_original['CID'] = planilha_original['CID'].apply(lambda x: preencher_cid(x))\n",
        "\n",
        "# Função para substituir caracteres especiais\n",
        "def substituir_caracteres_especiais(planilha):\n",
        "    if isinstance(planilha, str):  # Verifica se o texto é uma string\n",
        "        #texto = texto.replace('-', '')\n",
        "        planilha = planilha.replace('Ç', 'C')\n",
        "        planilha = planilha.replace(\"'\", '')\n",
        "        planilha = planilha.replace('\"', '')\n",
        "        planilha = planilha.replace('Á', 'A')\n",
        "        planilha = planilha.replace('Ã', 'A')\n",
        "        planilha = planilha.replace('Â', \"A\")\n",
        "        planilha = planilha.replace('É', 'E')\n",
        "        planilha = planilha.replace('Ê', 'E')\n",
        "        planilha = planilha.replace('Í','I')\n",
        "        planilha = planilha.replace('Õ', 'O')\n",
        "        planilha = planilha.replace('Ô', 'O')\n",
        "        planilha = planilha.replace('Ó', \"O\")\n",
        "       # planilha = planilha_original['Procedimento'].str.replace('-', '')\n",
        "        # Adicione mais substituições conforme necessário para outros caracteres especiais\n",
        "    return planilha\n",
        "\n",
        "#Função para remover traço da planilha\n",
        "def remover_traco_em_colunas(dataframe, colunas_preservadas):\n",
        "    colunas = dataframe.columns.tolist()\n",
        "    for coluna in colunas:\n",
        "        if coluna not in colunas_preservadas:\n",
        "            dataframe[coluna] = dataframe[coluna].str.replace('-', '')\n",
        "    return dataframe\n",
        "\n",
        "\n",
        "#Função para remover Barra(/) da planilha\n",
        "def remover_barra_em_colunas(dataframe, colunas_preservadas):\n",
        "    colunas = dataframe.columns.tolist()\n",
        "    for coluna in colunas:\n",
        "        if coluna not in colunas_preservadas:\n",
        "            dataframe[coluna] = dataframe[coluna].str.replace('/', '')\n",
        "    return dataframe\n",
        "\n",
        "#Função para remover espaço em branco em algumas colunas da planilha\n",
        "def remover_espaco_em_colunas(dataframe, colunas_preservadas):\n",
        "    colunas = dataframe.columns.tolist()\n",
        "    for coluna in colunas:\n",
        "        if coluna not in colunas_preservadas:\n",
        "            dataframe[coluna] = dataframe[coluna].str.strip().str.replace(' ', '')\n",
        "    return dataframe\n",
        "\n",
        "#Acionando a função de remoção de caracteres especiais\n",
        "planilha_corrigida = planilha_original.applymap(substituir_caracteres_especiais)\n",
        "\n",
        "#Remover traço da planilha com excessão de algumas colunas\n",
        "coluna_preservada_traco= ['Registro', 'Data Nascimento', 'Data Atendimento']\n",
        "remover_traco_em_colunas(planilha_corrigida, coluna_preservada_traco)\n",
        "\n",
        "#Remover barra da planilha com excessão de algumas colunas\n",
        "coluna_preservada_barra= ['Registro', 'Data Nascimento', 'Data Atendimento']\n",
        "remover_barra_em_colunas(planilha_corrigida, coluna_preservada_barra)\n",
        "\n",
        "#Remover espaço da planilha com excessão de algumas colunas\n",
        "coluna_preservada_espaco= ['Nome do Paciente', 'Rua', 'Bairro', 'Complemento','CIDADE']\n",
        "remover_espaco_em_colunas(planilha_corrigida, coluna_preservada_espaco)\n",
        "\n",
        "# Função para adicionar zero às linhas que não começam com zero\n",
        "def adicionar_zero(valor):\n",
        "    if str(valor)[0] != '0':  # Verifica se o primeiro caractere não é zero\n",
        "        return '0' + str(valor)  # Adiciona zero ao início do valor\n",
        "    else:\n",
        "        return valor  # Mantém o valor original se já começar com zero\n",
        "\n",
        "# Aplica a função à coluna desejada\n",
        "planilha_corrigida['CEP'] = planilha_corrigida['CEP'].apply(adicionar_zero)\n",
        "planilha_corrigida['Procedimento'] = planilha_corrigida['Procedimento'].apply(adicionar_zero)\n",
        "\n",
        "# Definir a função para concatenar as colunas desejadas\n",
        "def concatenar_reg_data_proc(row):\n",
        "    return f\"{row['Registro']}_{row['Data Atendimento']}_{row['Procedimento']}\"\n",
        "\n",
        "# Criar uma nova coluna com a concatenação das colunas desejadas\n",
        "planilha_corrigida['Concatenada'] = planilha_corrigida.apply(concatenar_reg_data_proc, axis=1)\n",
        "\n",
        "# Criar uma nova coluna com valores booleanos indicando se o valor atual é igual ao valor acima na coluna concatenada\n",
        "planilha_corrigida['Valor_igual_acima'] = planilha_corrigida['Concatenada'] == planilha_corrigida['Concatenada'].shift(1)\n",
        "\n",
        "# Calcular a soma dos valores True em uma coluna condicionalmente com base em outra coluna\n",
        "contador_true = planilha_corrigida.loc[planilha_corrigida['Valor_igual_acima'] == True, 'Valor_igual_acima'].count()\n",
        "planilha_corrigida.at[0, 'Contador_true'] = contador_true\n",
        "\n",
        "# Preencher as outras células da coluna 'Contador_true' com NaN\n",
        "planilha_corrigida['Contador_true'].fillna(value=pd.NA, inplace=True)\n",
        "\n",
        "# Remover CEP 05884070 E 05773080 que normalmente geram erro\n",
        "# CEPs para remover\n",
        "ceps_para_remover = ['05884070', '05773080']\n",
        "\n",
        "# Obter os índices das linhas que contêm os CEPs especificados\n",
        "indices_para_remover = planilha_corrigida[planilha_corrigida['CEP'].isin(ceps_para_remover)].index\n",
        "\n",
        "# Contar o número de linhas a serem removidas\n",
        "num_linhas_removidas = len(indices_para_remover)\n",
        "\n",
        "# Remover as linhas com os índices obtidos\n",
        "planilha_corrigida = planilha_corrigida.drop(indices_para_remover)\n",
        "\n",
        "# Adicionar o número de linhas removidas em uma nova coluna do DataFrame\n",
        "planilha_corrigida.at[0,'Qtd. Removidas'] = num_linhas_removidas\n",
        "\n",
        "# Salvar a nova planilha corrigida no diretório de destino\n",
        "caminho_planilha_corrigida = 'Atendimento_MM-YYYY_trabalhada.xlsx'\n",
        "planilha_corrigida.to_excel(caminho_planilha_corrigida, na_rep='', index=False)\n",
        "\n",
        "# Baixar o arquivo para o seu computador\n",
        "files.download(caminho_planilha_corrigida)\n",
        "\n",
        "# Informar que o processo foi concluído\n",
        "print(\"Planilha corrigida baixada com sucesso!\")\n"
      ],
      "metadata": {
        "colab": {
          "base_uri": "https://localhost:8080/",
          "height": 34
        },
        "id": "WvYc9tNRPh4l",
        "outputId": "d0adafa7-33d8-402c-d641-6bca6ddbe1ce"
      },
      "execution_count": null,
      "outputs": [
        {
          "output_type": "display_data",
          "data": {
            "text/plain": [
              "<IPython.core.display.Javascript object>"
            ],
            "application/javascript": [
              "\n",
              "    async function download(id, filename, size) {\n",
              "      if (!google.colab.kernel.accessAllowed) {\n",
              "        return;\n",
              "      }\n",
              "      const div = document.createElement('div');\n",
              "      const label = document.createElement('label');\n",
              "      label.textContent = `Downloading \"${filename}\": `;\n",
              "      div.appendChild(label);\n",
              "      const progress = document.createElement('progress');\n",
              "      progress.max = size;\n",
              "      div.appendChild(progress);\n",
              "      document.body.appendChild(div);\n",
              "\n",
              "      const buffers = [];\n",
              "      let downloaded = 0;\n",
              "\n",
              "      const channel = await google.colab.kernel.comms.open(id);\n",
              "      // Send a message to notify the kernel that we're ready.\n",
              "      channel.send({})\n",
              "\n",
              "      for await (const message of channel.messages) {\n",
              "        // Send a message to notify the kernel that we're ready.\n",
              "        channel.send({})\n",
              "        if (message.buffers) {\n",
              "          for (const buffer of message.buffers) {\n",
              "            buffers.push(buffer);\n",
              "            downloaded += buffer.byteLength;\n",
              "            progress.value = downloaded;\n",
              "          }\n",
              "        }\n",
              "      }\n",
              "      const blob = new Blob(buffers, {type: 'application/binary'});\n",
              "      const a = document.createElement('a');\n",
              "      a.href = window.URL.createObjectURL(blob);\n",
              "      a.download = filename;\n",
              "      div.appendChild(a);\n",
              "      a.click();\n",
              "      div.remove();\n",
              "    }\n",
              "  "
            ]
          },
          "metadata": {}
        },
        {
          "output_type": "display_data",
          "data": {
            "text/plain": [
              "<IPython.core.display.Javascript object>"
            ],
            "application/javascript": [
              "download(\"download_a8aebe87-fdfb-4f83-b13e-133d161e0434\", \"Atendimento_MM-YYYY_trabalhada.xlsx\", 234794)"
            ]
          },
          "metadata": {}
        },
        {
          "output_type": "stream",
          "name": "stdout",
          "text": [
            "Planilha corrigida baixada com sucesso!\n"
          ]
        }
      ]
    },
    {
      "cell_type": "code",
      "source": [
        "planilha_corrigida.tail(5)"
      ],
      "metadata": {
        "id": "vIucKPlRQQ1Z"
      },
      "execution_count": null,
      "outputs": []
    }
  ]
}